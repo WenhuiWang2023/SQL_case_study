{
 "cells": [
  {
   "cell_type": "markdown",
   "id": "eec01ad0",
   "metadata": {},
   "source": [
    "/* PART 2: SQLite\n",
    "\n",
    "Export the country club data from PHPMyAdmin, and connect to a local SQLite instance from Jupyter notebook \n",
    "for the following questions.  \n",
    "\n",
    "QUESTIONS:\n",
    "/* Q10: Produce a list of facilities with a total revenue less than 1000.\n",
    "The output of facility name and total revenue, sorted by revenue. Remember\n",
    "that there's a different cost for guests and members! */\n",
    "\n",
    "/* Q11: Produce a report of members and who recommended them in alphabetic surname,firstname order */\n",
    "\n",
    "\n",
    "/* Q12: Find the facilities with their usage by member, but not guests */\n",
    "\n",
    "\n",
    "/* Q13: Find the facilities usage by month, but not guests */\n",
    "\n"
   ]
  },
  {
   "cell_type": "code",
   "execution_count": 63,
   "id": "92a3e72a",
   "metadata": {},
   "outputs": [],
   "source": [
    "from sqlalchemy import create_engine\n",
    "import pandas as pd\n",
    "from sqlalchemy import inspect\n",
    "from sqlalchemy import text\n"
   ]
  },
  {
   "cell_type": "code",
   "execution_count": 57,
   "id": "84c20518",
   "metadata": {},
   "outputs": [],
   "source": [
    "engine = create_engine(\"sqlite:///sqlite_db_pythonsqlite.db\")"
   ]
  },
  {
   "cell_type": "code",
   "execution_count": 58,
   "id": "a5ae99cf",
   "metadata": {},
   "outputs": [
    {
     "data": {
      "text/plain": [
       "sqlalchemy.engine.base.Engine"
      ]
     },
     "execution_count": 58,
     "metadata": {},
     "output_type": "execute_result"
    }
   ],
   "source": [
    "type(engine)"
   ]
  },
  {
   "cell_type": "code",
   "execution_count": 60,
   "id": "d9226996",
   "metadata": {},
   "outputs": [
    {
     "name": "stdout",
     "output_type": "stream",
     "text": [
      "['Bookings', 'Facilities', 'Members']\n"
     ]
    }
   ],
   "source": [
    "insp = inspect(engine)\n",
    "print(insp.get_table_names())"
   ]
  },
  {
   "cell_type": "markdown",
   "id": "d6f02232",
   "metadata": {},
   "source": [
    "* Q10: Produce a list of facilities with a total revenue less than 1000. The output of facility name and total revenue, sorted by revenue. Remember that there's a different cost for guests and members! */"
   ]
  },
  {
   "cell_type": "code",
   "execution_count": 74,
   "id": "e42aefaf",
   "metadata": {},
   "outputs": [
    {
     "name": "stdout",
     "output_type": "stream",
     "text": [
      "   facid  Revenue\n",
      "0      3    180.0\n",
      "1      7    240.0\n",
      "2      8    270.0\n",
      "3      2   1906.5\n",
      "4      6  13468.0\n",
      "5      0  13860.0\n",
      "6      1  14310.0\n",
      "7      5  14454.6\n",
      "8      4  50351.6\n"
     ]
    }
   ],
   "source": [
    "with engine.connect() as con:\n",
    "    rs = con.execute(text(\"SELECT facid, SUM(Cost) AS Revenue \\\n",
    "                          FROM (SELECT Bookings.facid, memid, slots, membercost, guestcost, \\\n",
    "                           CASE WHEN memid = 0 THEN slots*guestcost \\\n",
    "                              ELSE slots * membercost END AS Cost   \\\n",
    "                          FROM Bookings \\\n",
    "                          LEFT JOIN Facilities \\\n",
    "                          ON Bookings.facid = Facilities.facid) AS subquerry \\\n",
    "                          GROUP BY facid \\\n",
    "                          ORDER BY Revenue;\"))\n",
    "    df = pd.DataFrame(rs.fetchall())\n",
    "    print(df)"
   ]
  },
  {
   "cell_type": "markdown",
   "id": "720719be",
   "metadata": {},
   "source": [
    "/* Q11: Produce a report of members and who recommended them in alphabetic surname,firstname order */"
   ]
  },
  {
   "cell_type": "code",
   "execution_count": 102,
   "id": "07de6a97",
   "metadata": {},
   "outputs": [
    {
     "name": "stdout",
     "output_type": "stream",
     "text": [
      "              surname  firstname      Recommendedby\n",
      "0            Joplette     Janice       Darren Smith\n",
      "1             Butters     Gerald       Darren Smith\n",
      "2                Dare      Nancy    Janice Joplette\n",
      "3              Boothe        Tim         Tim Rownam\n",
      "4            Stibbons     Ponder       Burton Tracy\n",
      "5                Owen    Charles       Darren Smith\n",
      "6               Jones      David    Janice Joplette\n",
      "7               Baker       Anne    Ponder Stibbons\n",
      "8               Smith       Jack       Darren Smith\n",
      "9               Bader   Florence    Ponder Stibbons\n",
      "10              Baker    Timothy     Jemima Farrell\n",
      "11             Pinker      David     Jemima Farrell\n",
      "12            Genting    Matthew     Gerald Butters\n",
      "13          Mackenzie       Anna       Darren Smith\n",
      "14             Coplin       Joan      Timothy Baker\n",
      "15             Sarwin  Ramnaresh     Florence Bader\n",
      "16              Jones    Douglas        David Jones\n",
      "17             Rumney  Henrietta    Matthew Genting\n",
      "18  Worthington-Smyth      Henry        Tracy Smith\n",
      "19            Purview  Millicent        Tracy Smith\n",
      "20               Hunt       John  Millicent Purview\n",
      "21            Crumpet      Erica        Tracy Smith\n"
     ]
    }
   ],
   "source": [
    "with engine.connect() as con:\n",
    "    rs = con.execute(text(\"SELECT e.surname, e.firstname,m.firstname || ' ' || m.surname AS Recommendedby \\\n",
    "                            FROM Members e \\\n",
    "                            LEFT JOIN Members m \\\n",
    "                            ON e.recommendedby = m.memid \\\n",
    "                            WHERE e.recommendedby <> '';\"))\n",
    "    df = pd.DataFrame(rs.fetchall())\n",
    "    print(df)"
   ]
  },
  {
   "cell_type": "markdown",
   "id": "d344b66e",
   "metadata": {},
   "source": [
    "/* Q12: Find the facilities with their usage by member, but not guests */"
   ]
  },
  {
   "cell_type": "code",
   "execution_count": 113,
   "id": "66500d68",
   "metadata": {},
   "outputs": [
    {
     "name": "stdout",
     "output_type": "stream",
     "text": [
      "              name  usage\n",
      "0   Massage Room 2     54\n",
      "1     Squash Court    418\n",
      "2     Table Tennis    794\n",
      "3       Pool Table    856\n",
      "4    Snooker Table    860\n",
      "5   Tennis Court 2    882\n",
      "6   Massage Room 1    884\n",
      "7   Tennis Court 1    957\n",
      "8  Badminton Court   1086\n"
     ]
    }
   ],
   "source": [
    "with engine.connect() as con:\n",
    "    rs = con.execute(text(\"SELECT Facilities.name, subquerry.usage \\\n",
    "                        FROM ( \\\n",
    "                        SELECT SUM(slots) AS \\\"usage\\\", facid \\\n",
    "                        FROM Bookings \\\n",
    "                        WHERE memid !=0 \\\n",
    "                        GROUP BY facid \\\n",
    "                        ) subquerry \\\n",
    "                        LEFT JOIN Facilities \\\n",
    "                        ON subquerry.facid = Facilities.facid \\\n",
    "                        ORDER BY usage;\"))\n",
    "    df = pd.DataFrame(rs.fetchall())\n",
    "    print(df)"
   ]
  },
  {
   "cell_type": "markdown",
   "id": "a246595e",
   "metadata": {},
   "source": [
    "/* Q13: Find the facilities usage by month, but not guests */"
   ]
  },
  {
   "cell_type": "code",
   "execution_count": 131,
   "id": "9d71bcd2",
   "metadata": {},
   "outputs": [
    {
     "name": "stdout",
     "output_type": "stream",
     "text": [
      "               name MONTH  USAGE\n",
      "0    Tennis Court 1    07    201\n",
      "1    Tennis Court 1    08    339\n",
      "2    Tennis Court 1    09    417\n",
      "3    Tennis Court 2    07    123\n",
      "4    Tennis Court 2    08    345\n",
      "5    Tennis Court 2    09    414\n",
      "6   Badminton Court    07    165\n",
      "7   Badminton Court    08    414\n",
      "8   Badminton Court    09    507\n",
      "9      Table Tennis    07     98\n",
      "10     Table Tennis    08    296\n",
      "11     Table Tennis    09    400\n",
      "12   Massage Room 1    07    166\n",
      "13   Massage Room 1    08    316\n",
      "14   Massage Room 1    09    402\n",
      "15   Massage Room 2    07      8\n",
      "16   Massage Room 2    08     18\n",
      "17   Massage Room 2    09     28\n",
      "18     Squash Court    07     50\n",
      "19     Squash Court    08    184\n",
      "20     Squash Court    09    184\n",
      "21    Snooker Table    07    140\n",
      "22    Snooker Table    08    316\n",
      "23    Snooker Table    09    404\n",
      "24       Pool Table    07    110\n",
      "25       Pool Table    08    303\n",
      "26       Pool Table    09    443\n"
     ]
    }
   ],
   "source": [
    "with engine.connect() as con:\n",
    "    rs = con.execute(text(\" \\\n",
    "                        SELECT Facilities.name, MONTH, USAGE \\\n",
    "                        FROM \\\n",
    "                        (SELECT strftime('%m', starttime) AS \\\"MONTH\\\", facid, SUM(slots) AS \\\"USAGE\\\" \\\n",
    "                        FROM Bookings \\\n",
    "                        WHERE memid !=0 \\\n",
    "                        GROUP BY facid, MONTH ) subquerry\\\n",
    "                        LEFT JOIN Facilities \\\n",
    "                        ON subquerry.facid = Facilities.facid \\\n",
    "                    ;\"))\n",
    "    df = pd.DataFrame(rs.fetchall())\n",
    "    print(df)"
   ]
  },
  {
   "cell_type": "code",
   "execution_count": null,
   "id": "72a9099c",
   "metadata": {},
   "outputs": [],
   "source": []
  },
  {
   "cell_type": "code",
   "execution_count": null,
   "id": "3636a6ca",
   "metadata": {},
   "outputs": [],
   "source": []
  }
 ],
 "metadata": {
  "kernelspec": {
   "display_name": "Python 3 (ipykernel)",
   "language": "python",
   "name": "python3"
  },
  "language_info": {
   "codemirror_mode": {
    "name": "ipython",
    "version": 3
   },
   "file_extension": ".py",
   "mimetype": "text/x-python",
   "name": "python",
   "nbconvert_exporter": "python",
   "pygments_lexer": "ipython3",
   "version": "3.11.0"
  }
 },
 "nbformat": 4,
 "nbformat_minor": 5
}
